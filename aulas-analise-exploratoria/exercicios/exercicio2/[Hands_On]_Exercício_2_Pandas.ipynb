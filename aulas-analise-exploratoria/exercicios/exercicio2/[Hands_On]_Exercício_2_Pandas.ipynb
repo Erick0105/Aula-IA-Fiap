{
  "nbformat": 4,
  "nbformat_minor": 0,
  "metadata": {
    "colab": {
      "provenance": [],
      "toc_visible": true
    },
    "kernelspec": {
      "name": "python3",
      "display_name": "Python 3"
    },
    "language_info": {
      "name": "python"
    }
  },
  "cells": [
    {
      "cell_type": "markdown",
      "source": [
        "#Exercícios"
      ],
      "metadata": {
        "id": "gyGhKfgJMgzB"
      }
    },
    {
      "cell_type": "code",
      "source": [
        "#Crie um Dataframe com um join entre orders.csv e stores.csv chamado de df_stores e responda as questões abaixo"
      ],
      "metadata": {
        "id": "vGePgGQ4P8yv"
      },
      "execution_count": null,
      "outputs": []
    },
    {
      "cell_type": "markdown",
      "source": [
        "## 1 - Quais lojas possuem mais valores repedidos em df_stores?"
      ],
      "metadata": {
        "id": "el541rCMLwpW"
      }
    },
    {
      "cell_type": "markdown",
      "source": [
        "## 2 - Quais lojas possuem maior valor de pedidos?"
      ],
      "metadata": {
        "id": "UrJIWZ1_LLNt"
      }
    },
    {
      "cell_type": "markdown",
      "source": [
        "## 3 - Quais lojas tem o maior tempo de produção do pedido?"
      ],
      "metadata": {
        "id": "6Aqh6AW0KzH0"
      }
    },
    {
      "cell_type": "markdown",
      "source": [
        "## 4 - Num cenário de negócio, quais alternativas você recomenda para diminuir o tempo de produção dos pedidos?\n",
        "Pode utilizar o Google, ChatGPT para pesquisar sobre o assunto. Consegue indicar algum artigo ciêntifíco, reposítório, ou análise no Kaggle que já tratou sobre este problema?"
      ],
      "metadata": {
        "id": "7ahgVR7qL_1p"
      }
    },
    {
      "cell_type": "markdown",
      "source": [
        "## 5 - Quais são os principais Shoppings/Cidades em número de Pedidos. Faça o upload do .csv de hubs e realize os joins entre os dataframes de orders, stores e hubs para chegar no resultado."
      ],
      "metadata": {
        "id": "9Spc177WM4In"
      }
    }
  ]
}